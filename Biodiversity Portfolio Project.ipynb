{
 "cells": [
  {
   "cell_type": "markdown",
   "metadata": {},
   "source": [
    "# Introduction\n",
    "This goal of this project was to analyze the data about biodiversity from the National Parks Service, particularly around the various species observed in the different national park locations.\n",
    "\n",
    "This project will scope, analyze, prepare, plot data, and seek to explain the findings from the analysis.\n",
    "\n",
    "Here are a few questions that this project has sought to answer:\n",
    "\n",
    "What is the distribution of conservation status for animals?\n",
    "\n",
    "Are certain types of species more likely to be endangered?\n",
    "\n",
    "Are the differences between species and their conservation status significant?\n",
    "\n",
    "Which species were spotted the most at each park?\n",
    "\n",
    "##### Data sources:\n",
    "Both Observations.csv and Species_info.csv was provided by Codecademy.com."
   ]
  },
  {
   "cell_type": "markdown",
   "metadata": {},
   "source": [
    "## Project Goals\n",
    "In this project the perspective will be through a biodiversity analyst for the National Parks Service. The National Park Service wants to ensure the survival of at-risk species, to maintain the level of biodiversity within their parks. Therefore, the main objectives as an analyst will be understanding characteristics about the species and their conservations status, and those species and their relationship to the national parks. Some questions that are posed:\n",
    "\n",
    "- What is the distribution of conservation status for animals?\n",
    "- Are certain types of species more likely to be endangered?\n",
    "- Are the differences between species and their conservation status significant?\n",
    "- Which species were spotted the most at each park?"
   ]
  },
  {
   "cell_type": "markdown",
   "metadata": {},
   "source": [
    "## Data\n",
    "This project was completed with two data sets that were supplied. One has information about each species and the other has observations of species with park locations."
   ]
  },
  {
   "cell_type": "markdown",
   "metadata": {},
   "source": [
    "# Import Python Modules\n",
    "First import the python modules that will be used for this project:"
   ]
  },
  {
   "cell_type": "code",
   "execution_count": 1,
   "metadata": {},
   "outputs": [],
   "source": [
    "import pandas as pd\n",
    "import numpy as np\n",
    "import matplotlib.pyplot as plt\n",
    "import seaborn as sns\n",
    "import glob\n",
    "%matplotlib inline"
   ]
  },
  {
   "cell_type": "markdown",
   "metadata": {},
   "source": [
    "# Loading and Initial Data Analysis\n",
    "The two datasets are loaded into dataframes using pandas in order to explore and visualise the data with python. 'Observations.csv' and 'Species_info.csv' are read in as dataframes called 'obs' and 'spec_info' respectively. The dataframes are then looked at using '.tail()' to get some initial analysis."
   ]
  },
  {
   "cell_type": "code",
   "execution_count": 2,
   "metadata": {},
   "outputs": [
    {
     "data": {
      "text/html": [
       "<div>\n",
       "<style scoped>\n",
       "    .dataframe tbody tr th:only-of-type {\n",
       "        vertical-align: middle;\n",
       "    }\n",
       "\n",
       "    .dataframe tbody tr th {\n",
       "        vertical-align: top;\n",
       "    }\n",
       "\n",
       "    .dataframe thead th {\n",
       "        text-align: right;\n",
       "    }\n",
       "</style>\n",
       "<table border=\"1\" class=\"dataframe\">\n",
       "  <thead>\n",
       "    <tr style=\"text-align: right;\">\n",
       "      <th></th>\n",
       "      <th>scientific_name</th>\n",
       "      <th>park_name</th>\n",
       "      <th>observations</th>\n",
       "    </tr>\n",
       "  </thead>\n",
       "  <tbody>\n",
       "    <tr>\n",
       "      <th>23291</th>\n",
       "      <td>Croton monanthogynus</td>\n",
       "      <td>Yosemite National Park</td>\n",
       "      <td>173</td>\n",
       "    </tr>\n",
       "    <tr>\n",
       "      <th>23292</th>\n",
       "      <td>Otospermophilus beecheyi</td>\n",
       "      <td>Bryce National Park</td>\n",
       "      <td>130</td>\n",
       "    </tr>\n",
       "    <tr>\n",
       "      <th>23293</th>\n",
       "      <td>Heterotheca sessiliflora ssp. echioides</td>\n",
       "      <td>Bryce National Park</td>\n",
       "      <td>140</td>\n",
       "    </tr>\n",
       "    <tr>\n",
       "      <th>23294</th>\n",
       "      <td>Dicranella rufescens</td>\n",
       "      <td>Yosemite National Park</td>\n",
       "      <td>171</td>\n",
       "    </tr>\n",
       "    <tr>\n",
       "      <th>23295</th>\n",
       "      <td>Cucurbita pepo</td>\n",
       "      <td>Yosemite National Park</td>\n",
       "      <td>164</td>\n",
       "    </tr>\n",
       "  </tbody>\n",
       "</table>\n",
       "</div>"
      ],
      "text/plain": [
       "                               scientific_name               park_name  \\\n",
       "23291                     Croton monanthogynus  Yosemite National Park   \n",
       "23292                 Otospermophilus beecheyi     Bryce National Park   \n",
       "23293  Heterotheca sessiliflora ssp. echioides     Bryce National Park   \n",
       "23294                     Dicranella rufescens  Yosemite National Park   \n",
       "23295                           Cucurbita pepo  Yosemite National Park   \n",
       "\n",
       "       observations  \n",
       "23291           173  \n",
       "23292           130  \n",
       "23293           140  \n",
       "23294           171  \n",
       "23295           164  "
      ]
     },
     "metadata": {},
     "output_type": "display_data"
    }
   ],
   "source": [
    "obs = pd.read_csv('observations.csv')\n",
    "display(obs.tail())"
   ]
  },
  {
   "cell_type": "markdown",
   "metadata": {},
   "source": [
    "The above dataframe shows the contents of the 'observations.csv' file. The dataset has 3 columns which contain:\n",
    "\n",
    "- scientific_name - The scientific name of each species.\n",
    "- park_name - The name of the park the species was observed in.\n",
    "- observations - The number of observations of that species in that park in the last seven days.\n",
    "\n",
    "This dataset has also has 23,296 rows of data."
   ]
  },
  {
   "cell_type": "code",
   "execution_count": 3,
   "metadata": {},
   "outputs": [
    {
     "data": {
      "text/html": [
       "<div>\n",
       "<style scoped>\n",
       "    .dataframe tbody tr th:only-of-type {\n",
       "        vertical-align: middle;\n",
       "    }\n",
       "\n",
       "    .dataframe tbody tr th {\n",
       "        vertical-align: top;\n",
       "    }\n",
       "\n",
       "    .dataframe thead th {\n",
       "        text-align: right;\n",
       "    }\n",
       "</style>\n",
       "<table border=\"1\" class=\"dataframe\">\n",
       "  <thead>\n",
       "    <tr style=\"text-align: right;\">\n",
       "      <th></th>\n",
       "      <th>category</th>\n",
       "      <th>scientific_name</th>\n",
       "      <th>common_names</th>\n",
       "      <th>conservation_status</th>\n",
       "    </tr>\n",
       "  </thead>\n",
       "  <tbody>\n",
       "    <tr>\n",
       "      <th>5819</th>\n",
       "      <td>Vascular Plant</td>\n",
       "      <td>Solanum parishii</td>\n",
       "      <td>Parish's Nightshade</td>\n",
       "      <td>NaN</td>\n",
       "    </tr>\n",
       "    <tr>\n",
       "      <th>5820</th>\n",
       "      <td>Vascular Plant</td>\n",
       "      <td>Solanum xanti</td>\n",
       "      <td>Chaparral Nightshade, Purple Nightshade</td>\n",
       "      <td>NaN</td>\n",
       "    </tr>\n",
       "    <tr>\n",
       "      <th>5821</th>\n",
       "      <td>Vascular Plant</td>\n",
       "      <td>Parthenocissus vitacea</td>\n",
       "      <td>Thicket Creeper, Virginia Creeper, Woodbine</td>\n",
       "      <td>NaN</td>\n",
       "    </tr>\n",
       "    <tr>\n",
       "      <th>5822</th>\n",
       "      <td>Vascular Plant</td>\n",
       "      <td>Vitis californica</td>\n",
       "      <td>California Grape, California Wild Grape</td>\n",
       "      <td>NaN</td>\n",
       "    </tr>\n",
       "    <tr>\n",
       "      <th>5823</th>\n",
       "      <td>Vascular Plant</td>\n",
       "      <td>Tribulus terrestris</td>\n",
       "      <td>Bullhead, Caltrop, Goathead, Mexican Sandbur, ...</td>\n",
       "      <td>NaN</td>\n",
       "    </tr>\n",
       "  </tbody>\n",
       "</table>\n",
       "</div>"
      ],
      "text/plain": [
       "            category         scientific_name  \\\n",
       "5819  Vascular Plant        Solanum parishii   \n",
       "5820  Vascular Plant           Solanum xanti   \n",
       "5821  Vascular Plant  Parthenocissus vitacea   \n",
       "5822  Vascular Plant       Vitis californica   \n",
       "5823  Vascular Plant     Tribulus terrestris   \n",
       "\n",
       "                                           common_names conservation_status  \n",
       "5819                                Parish's Nightshade                 NaN  \n",
       "5820            Chaparral Nightshade, Purple Nightshade                 NaN  \n",
       "5821        Thicket Creeper, Virginia Creeper, Woodbine                 NaN  \n",
       "5822            California Grape, California Wild Grape                 NaN  \n",
       "5823  Bullhead, Caltrop, Goathead, Mexican Sandbur, ...                 NaN  "
      ]
     },
     "metadata": {},
     "output_type": "display_data"
    }
   ],
   "source": [
    "spec_info = pd.read_csv('species_info.csv')\n",
    "display(spec_info.tail())"
   ]
  },
  {
   "cell_type": "markdown",
   "metadata": {},
   "source": [
    "The above dataframe shows the contents of the 'species_info.csv' file. The dataset has 4 columns which contain:\n",
    "\n",
    "- category - The category the species belongs to.\n",
    "- scientific_name - The scientific name of each species.\n",
    "- common_names - Commonly used names for that species.\n",
    "- conservation_status - The conservation status of the species.\n",
    "\n",
    "This dataset has also has 5,823 rows of data."
   ]
  },
  {
   "cell_type": "markdown",
   "metadata": {},
   "source": [
    "Next some further exploration of the data was conducted."
   ]
  },
  {
   "cell_type": "code",
   "execution_count": 5,
   "metadata": {
    "scrolled": true
   },
   "outputs": [
    {
     "data": {
      "text/html": [
       "<div>\n",
       "<style scoped>\n",
       "    .dataframe tbody tr th:only-of-type {\n",
       "        vertical-align: middle;\n",
       "    }\n",
       "\n",
       "    .dataframe tbody tr th {\n",
       "        vertical-align: top;\n",
       "    }\n",
       "\n",
       "    .dataframe thead th {\n",
       "        text-align: right;\n",
       "    }\n",
       "</style>\n",
       "<table border=\"1\" class=\"dataframe\">\n",
       "  <thead>\n",
       "    <tr style=\"text-align: right;\">\n",
       "      <th></th>\n",
       "      <th>observations</th>\n",
       "    </tr>\n",
       "  </thead>\n",
       "  <tbody>\n",
       "    <tr>\n",
       "      <th>count</th>\n",
       "      <td>23296.000000</td>\n",
       "    </tr>\n",
       "    <tr>\n",
       "      <th>mean</th>\n",
       "      <td>142.287904</td>\n",
       "    </tr>\n",
       "    <tr>\n",
       "      <th>std</th>\n",
       "      <td>69.890532</td>\n",
       "    </tr>\n",
       "    <tr>\n",
       "      <th>min</th>\n",
       "      <td>9.000000</td>\n",
       "    </tr>\n",
       "    <tr>\n",
       "      <th>25%</th>\n",
       "      <td>86.000000</td>\n",
       "    </tr>\n",
       "    <tr>\n",
       "      <th>50%</th>\n",
       "      <td>124.000000</td>\n",
       "    </tr>\n",
       "    <tr>\n",
       "      <th>75%</th>\n",
       "      <td>195.000000</td>\n",
       "    </tr>\n",
       "    <tr>\n",
       "      <th>max</th>\n",
       "      <td>321.000000</td>\n",
       "    </tr>\n",
       "  </tbody>\n",
       "</table>\n",
       "</div>"
      ],
      "text/plain": [
       "       observations\n",
       "count  23296.000000\n",
       "mean     142.287904\n",
       "std       69.890532\n",
       "min        9.000000\n",
       "25%       86.000000\n",
       "50%      124.000000\n",
       "75%      195.000000\n",
       "max      321.000000"
      ]
     },
     "metadata": {},
     "output_type": "display_data"
    },
    {
     "data": {
      "text/html": [
       "<div>\n",
       "<style scoped>\n",
       "    .dataframe tbody tr th:only-of-type {\n",
       "        vertical-align: middle;\n",
       "    }\n",
       "\n",
       "    .dataframe tbody tr th {\n",
       "        vertical-align: top;\n",
       "    }\n",
       "\n",
       "    .dataframe thead th {\n",
       "        text-align: right;\n",
       "    }\n",
       "</style>\n",
       "<table border=\"1\" class=\"dataframe\">\n",
       "  <thead>\n",
       "    <tr style=\"text-align: right;\">\n",
       "      <th></th>\n",
       "      <th>category</th>\n",
       "      <th>scientific_name</th>\n",
       "      <th>common_names</th>\n",
       "      <th>conservation_status</th>\n",
       "    </tr>\n",
       "  </thead>\n",
       "  <tbody>\n",
       "    <tr>\n",
       "      <th>count</th>\n",
       "      <td>5824</td>\n",
       "      <td>5824</td>\n",
       "      <td>5824</td>\n",
       "      <td>191</td>\n",
       "    </tr>\n",
       "    <tr>\n",
       "      <th>unique</th>\n",
       "      <td>7</td>\n",
       "      <td>5541</td>\n",
       "      <td>5504</td>\n",
       "      <td>4</td>\n",
       "    </tr>\n",
       "    <tr>\n",
       "      <th>top</th>\n",
       "      <td>Vascular Plant</td>\n",
       "      <td>Castor canadensis</td>\n",
       "      <td>Brachythecium Moss</td>\n",
       "      <td>Species of Concern</td>\n",
       "    </tr>\n",
       "    <tr>\n",
       "      <th>freq</th>\n",
       "      <td>4470</td>\n",
       "      <td>3</td>\n",
       "      <td>7</td>\n",
       "      <td>161</td>\n",
       "    </tr>\n",
       "  </tbody>\n",
       "</table>\n",
       "</div>"
      ],
      "text/plain": [
       "              category    scientific_name        common_names  \\\n",
       "count             5824               5824                5824   \n",
       "unique               7               5541                5504   \n",
       "top     Vascular Plant  Castor canadensis  Brachythecium Moss   \n",
       "freq              4470                  3                   7   \n",
       "\n",
       "       conservation_status  \n",
       "count                  191  \n",
       "unique                   4  \n",
       "top     Species of Concern  \n",
       "freq                   161  "
      ]
     },
     "metadata": {},
     "output_type": "display_data"
    }
   ],
   "source": [
    "display(obs.describe())\n",
    "display(spec_info.describe())"
   ]
  },
  {
   "cell_type": "markdown",
   "metadata": {},
   "source": [
    "The summary statistics of the obervations data says that the average number of sightings for a species in one of the parks in the last seven days was 142. The species sighted the least was seen 9 times while the one seen the most was spotted 321 times."
   ]
  },
  {
   "cell_type": "code",
   "execution_count": 6,
   "metadata": {},
   "outputs": [
    {
     "name": "stdout",
     "output_type": "stream",
     "text": [
      "['Mammal' 'Bird' 'Reptile' 'Amphibian' 'Fish' 'Vascular Plant'\n",
      " 'Nonvascular Plant']\n"
     ]
    }
   ],
   "source": [
    "print(spec_info.category.unique())"
   ]
  },
  {
   "cell_type": "markdown",
   "metadata": {},
   "source": [
    "The species in the spec_info table have been split into seven catogries which are shown above."
   ]
  },
  {
   "cell_type": "code",
   "execution_count": 7,
   "metadata": {},
   "outputs": [
    {
     "name": "stdout",
     "output_type": "stream",
     "text": [
      "['Great Smoky Mountains National Park' 'Yosemite National Park'\n",
      " 'Bryce National Park' 'Yellowstone National Park']\n"
     ]
    }
   ],
   "source": [
    "print(obs.park_name.unique())"
   ]
  },
  {
   "cell_type": "markdown",
   "metadata": {},
   "source": [
    "There are four national parks included in the data which are shown above."
   ]
  },
  {
   "cell_type": "markdown",
   "metadata": {},
   "source": [
    "# Question 1\n",
    "What is the distribution of conservation_status for animals?"
   ]
  },
  {
   "cell_type": "markdown",
   "metadata": {},
   "source": [
    "The first step was to take the species_info dataset and remove the rows containing plants as this question is only asking about animals."
   ]
  },
  {
   "cell_type": "code",
   "execution_count": 8,
   "metadata": {},
   "outputs": [],
   "source": [
    "# Removing plants from the dataset\n",
    "spec_info_animals = spec_info[(spec_info.category != 'Vascular Plant')&(spec_info.category != 'Nonvascular Plant')]"
   ]
  },
  {
   "cell_type": "markdown",
   "metadata": {},
   "source": [
    "Next the conservation_status data was displayed in a barchart for all animals and in seperate charts for each animal."
   ]
  },
  {
   "cell_type": "code",
   "execution_count": 9,
   "metadata": {},
   "outputs": [
    {
     "data": {
      "image/png": "[encoded data removed]",
      "text/plain": [
       "<Figure size 360x360 with 1 Axes>"
      ]
     },
     "metadata": {
      "needs_background": "light"
     },
     "output_type": "display_data"
    },
    {
     "data": {
      "text/plain": [
       "<Figure size 432x288 with 0 Axes>"
      ]
     },
     "metadata": {},
     "output_type": "display_data"
    },
    {
     "data": {
      "image/png": "[encoded data removed]",
      "text/plain": [
       "<Figure size 1169.62x720 with 5 Axes>"
      ]
     },
     "metadata": {
      "needs_background": "light"
     },
     "output_type": "display_data"
    },
    {
     "data": {
      "text/plain": [
       "<Figure size 432x288 with 0 Axes>"
      ]
     },
     "metadata": {},
     "output_type": "display_data"
    }
   ],
   "source": [
    "#Conservation status for all animals\n",
    "chart1 = sns.displot(data=spec_info_animals, x=\"conservation_status\")\n",
    "chart1.set_xticklabels(rotation=45, horizontalalignment='right')\n",
    "plt.show()\n",
    "plt.clf()\n",
    "#Conservation status split by animal\n",
    "chart2 = sns.displot(data=spec_info_animals, x=\"conservation_status\", hue='category', col='category', col_wrap=3)\n",
    "chart2.set_xticklabels(rotation=45, horizontalalignment='right')\n",
    "plt.show()\n",
    "plt.clf()"
   ]
  },
  {
   "cell_type": "markdown",
   "metadata": {},
   "source": [
    "These charts show that Mammals and Birds have a high number of species of concern compared to the other categories. Reptiles do not have any species in the other categories whereas the others all have species in a more serious conservation status. The overwhelming number of species come under species of concern as evidenced by the first chart."
   ]
  },
  {
   "cell_type": "markdown",
   "metadata": {},
   "source": [
    "These data visualasiations do not show the data with NaN values however. The NaN values represent the animals that do not fall under a conservation status so they have been marked below as safe."
   ]
  },
  {
   "cell_type": "code",
   "execution_count": 10,
   "metadata": {
    "scrolled": true
   },
   "outputs": [
    {
     "data": {
      "text/html": [
       "<div>\n",
       "<style scoped>\n",
       "    .dataframe tbody tr th:only-of-type {\n",
       "        vertical-align: middle;\n",
       "    }\n",
       "\n",
       "    .dataframe tbody tr th {\n",
       "        vertical-align: top;\n",
       "    }\n",
       "\n",
       "    .dataframe thead th {\n",
       "        text-align: right;\n",
       "    }\n",
       "</style>\n",
       "<table border=\"1\" class=\"dataframe\">\n",
       "  <thead>\n",
       "    <tr style=\"text-align: right;\">\n",
       "      <th></th>\n",
       "      <th>category</th>\n",
       "      <th>scientific_name</th>\n",
       "      <th>common_names</th>\n",
       "      <th>conservation_status</th>\n",
       "    </tr>\n",
       "  </thead>\n",
       "  <tbody>\n",
       "    <tr>\n",
       "      <th>0</th>\n",
       "      <td>Mammal</td>\n",
       "      <td>Clethrionomys gapperi gapperi</td>\n",
       "      <td>Gapper's Red-Backed Vole</td>\n",
       "      <td>Safe</td>\n",
       "    </tr>\n",
       "    <tr>\n",
       "      <th>1</th>\n",
       "      <td>Mammal</td>\n",
       "      <td>Bos bison</td>\n",
       "      <td>American Bison, Bison</td>\n",
       "      <td>Safe</td>\n",
       "    </tr>\n",
       "    <tr>\n",
       "      <th>2</th>\n",
       "      <td>Mammal</td>\n",
       "      <td>Bos taurus</td>\n",
       "      <td>Aurochs, Aurochs, Domestic Cattle (Feral), Dom...</td>\n",
       "      <td>Safe</td>\n",
       "    </tr>\n",
       "    <tr>\n",
       "      <th>3</th>\n",
       "      <td>Mammal</td>\n",
       "      <td>Ovis aries</td>\n",
       "      <td>Domestic Sheep, Mouflon, Red Sheep, Sheep (Feral)</td>\n",
       "      <td>Safe</td>\n",
       "    </tr>\n",
       "    <tr>\n",
       "      <th>4</th>\n",
       "      <td>Mammal</td>\n",
       "      <td>Cervus elaphus</td>\n",
       "      <td>Wapiti Or Elk</td>\n",
       "      <td>Safe</td>\n",
       "    </tr>\n",
       "  </tbody>\n",
       "</table>\n",
       "</div>"
      ],
      "text/plain": [
       "  category                scientific_name  \\\n",
       "0   Mammal  Clethrionomys gapperi gapperi   \n",
       "1   Mammal                      Bos bison   \n",
       "2   Mammal                     Bos taurus   \n",
       "3   Mammal                     Ovis aries   \n",
       "4   Mammal                 Cervus elaphus   \n",
       "\n",
       "                                        common_names conservation_status  \n",
       "0                           Gapper's Red-Backed Vole                Safe  \n",
       "1                              American Bison, Bison                Safe  \n",
       "2  Aurochs, Aurochs, Domestic Cattle (Feral), Dom...                Safe  \n",
       "3  Domestic Sheep, Mouflon, Red Sheep, Sheep (Feral)                Safe  \n",
       "4                                      Wapiti Or Elk                Safe  "
      ]
     },
     "metadata": {},
     "output_type": "display_data"
    }
   ],
   "source": [
    "# Counting the NaN values with a conservation status of 'Safe'\n",
    "spec_info_safe = spec_info.fillna('Safe')\n",
    "display(spec_info_safe.head())\n"
   ]
  },
  {
   "cell_type": "markdown",
   "metadata": {},
   "source": [
    "The plants are then taken out of the data before being visualised again to see the safe animals represented."
   ]
  },
  {
   "cell_type": "code",
   "execution_count": 11,
   "metadata": {},
   "outputs": [
    {
     "data": {
      "text/html": [
       "<div>\n",
       "<style scoped>\n",
       "    .dataframe tbody tr th:only-of-type {\n",
       "        vertical-align: middle;\n",
       "    }\n",
       "\n",
       "    .dataframe tbody tr th {\n",
       "        vertical-align: top;\n",
       "    }\n",
       "\n",
       "    .dataframe thead th {\n",
       "        text-align: right;\n",
       "    }\n",
       "</style>\n",
       "<table border=\"1\" class=\"dataframe\">\n",
       "  <thead>\n",
       "    <tr style=\"text-align: right;\">\n",
       "      <th></th>\n",
       "      <th>category</th>\n",
       "      <th>scientific_name</th>\n",
       "      <th>common_names</th>\n",
       "      <th>conservation_status</th>\n",
       "    </tr>\n",
       "  </thead>\n",
       "  <tbody>\n",
       "    <tr>\n",
       "      <th>0</th>\n",
       "      <td>Mammal</td>\n",
       "      <td>Clethrionomys gapperi gapperi</td>\n",
       "      <td>Gapper's Red-Backed Vole</td>\n",
       "      <td>Safe</td>\n",
       "    </tr>\n",
       "    <tr>\n",
       "      <th>1</th>\n",
       "      <td>Mammal</td>\n",
       "      <td>Bos bison</td>\n",
       "      <td>American Bison, Bison</td>\n",
       "      <td>Safe</td>\n",
       "    </tr>\n",
       "    <tr>\n",
       "      <th>2</th>\n",
       "      <td>Mammal</td>\n",
       "      <td>Bos taurus</td>\n",
       "      <td>Aurochs, Aurochs, Domestic Cattle (Feral), Dom...</td>\n",
       "      <td>Safe</td>\n",
       "    </tr>\n",
       "    <tr>\n",
       "      <th>3</th>\n",
       "      <td>Mammal</td>\n",
       "      <td>Ovis aries</td>\n",
       "      <td>Domestic Sheep, Mouflon, Red Sheep, Sheep (Feral)</td>\n",
       "      <td>Safe</td>\n",
       "    </tr>\n",
       "    <tr>\n",
       "      <th>4</th>\n",
       "      <td>Mammal</td>\n",
       "      <td>Cervus elaphus</td>\n",
       "      <td>Wapiti Or Elk</td>\n",
       "      <td>Safe</td>\n",
       "    </tr>\n",
       "    <tr>\n",
       "      <th>...</th>\n",
       "      <td>...</td>\n",
       "      <td>...</td>\n",
       "      <td>...</td>\n",
       "      <td>...</td>\n",
       "    </tr>\n",
       "    <tr>\n",
       "      <th>4610</th>\n",
       "      <td>Fish</td>\n",
       "      <td>Mylopharodon conocephalus</td>\n",
       "      <td>Hardhead</td>\n",
       "      <td>Safe</td>\n",
       "    </tr>\n",
       "    <tr>\n",
       "      <th>4611</th>\n",
       "      <td>Fish</td>\n",
       "      <td>Ptychocheilus grandis</td>\n",
       "      <td>Sacramento Pikeminnow</td>\n",
       "      <td>Safe</td>\n",
       "    </tr>\n",
       "    <tr>\n",
       "      <th>4612</th>\n",
       "      <td>Fish</td>\n",
       "      <td>Oncorhynchus clarkii henshawi</td>\n",
       "      <td>Lahontan Cutthroat Trout</td>\n",
       "      <td>Threatened</td>\n",
       "    </tr>\n",
       "    <tr>\n",
       "      <th>4613</th>\n",
       "      <td>Fish</td>\n",
       "      <td>Oncorhynchus mykiss aguabonita</td>\n",
       "      <td>California Golden Trout</td>\n",
       "      <td>Safe</td>\n",
       "    </tr>\n",
       "    <tr>\n",
       "      <th>4614</th>\n",
       "      <td>Fish</td>\n",
       "      <td>Cottus gulosus</td>\n",
       "      <td>Riffle Sculpin</td>\n",
       "      <td>Safe</td>\n",
       "    </tr>\n",
       "  </tbody>\n",
       "</table>\n",
       "<p>1021 rows × 4 columns</p>\n",
       "</div>"
      ],
      "text/plain": [
       "     category                 scientific_name  \\\n",
       "0      Mammal   Clethrionomys gapperi gapperi   \n",
       "1      Mammal                       Bos bison   \n",
       "2      Mammal                      Bos taurus   \n",
       "3      Mammal                      Ovis aries   \n",
       "4      Mammal                  Cervus elaphus   \n",
       "...       ...                             ...   \n",
       "4610     Fish       Mylopharodon conocephalus   \n",
       "4611     Fish           Ptychocheilus grandis   \n",
       "4612     Fish   Oncorhynchus clarkii henshawi   \n",
       "4613     Fish  Oncorhynchus mykiss aguabonita   \n",
       "4614     Fish                  Cottus gulosus   \n",
       "\n",
       "                                           common_names conservation_status  \n",
       "0                              Gapper's Red-Backed Vole                Safe  \n",
       "1                                 American Bison, Bison                Safe  \n",
       "2     Aurochs, Aurochs, Domestic Cattle (Feral), Dom...                Safe  \n",
       "3     Domestic Sheep, Mouflon, Red Sheep, Sheep (Feral)                Safe  \n",
       "4                                         Wapiti Or Elk                Safe  \n",
       "...                                                 ...                 ...  \n",
       "4610                                           Hardhead                Safe  \n",
       "4611                              Sacramento Pikeminnow                Safe  \n",
       "4612                           Lahontan Cutthroat Trout          Threatened  \n",
       "4613                            California Golden Trout                Safe  \n",
       "4614                                     Riffle Sculpin                Safe  \n",
       "\n",
       "[1021 rows x 4 columns]"
      ]
     },
     "metadata": {},
     "output_type": "display_data"
    }
   ],
   "source": [
    "#Removing plants from the dataset\n",
    "spec_info_safe_animals = spec_info_safe[(spec_info.category != 'Vascular Plant')&(spec_info.category != 'Nonvascular Plant')]\n",
    "display(spec_info_safe_animals)"
   ]
  },
  {
   "cell_type": "code",
   "execution_count": 12,
   "metadata": {},
   "outputs": [
    {
     "data": {
      "image/png": "[encoded data removed]",
      "text/plain": [
       "<Figure size 360x360 with 1 Axes>"
      ]
     },
     "metadata": {
      "needs_background": "light"
     },
     "output_type": "display_data"
    },
    {
     "data": {
      "text/plain": [
       "<Figure size 432x288 with 0 Axes>"
      ]
     },
     "metadata": {},
     "output_type": "display_data"
    },
    {
     "data": {
      "image/png": "[encoded data removed]",
      "text/plain": [
       "<Figure size 1169.62x720 with 5 Axes>"
      ]
     },
     "metadata": {
      "needs_background": "light"
     },
     "output_type": "display_data"
    },
    {
     "data": {
      "text/plain": [
       "<Figure size 432x288 with 0 Axes>"
      ]
     },
     "metadata": {},
     "output_type": "display_data"
    }
   ],
   "source": [
    "#Conservation status for all animals\n",
    "chart3 = sns.displot(data=spec_info_safe_animals, x=\"conservation_status\")\n",
    "chart3.set_xticklabels(rotation=45, horizontalalignment='right')\n",
    "plt.show()\n",
    "plt.clf()\n",
    "#conservation status split by animal\n",
    "chart4 = sns.displot(data=spec_info_safe_animals, x=\"conservation_status\", hue='category', col='category', col_wrap=3)\n",
    "chart4.set_xticklabels(rotation=45, horizontalalignment='right')\n",
    "plt.show()\n",
    "plt.clf()"
   ]
  },
  {
   "cell_type": "markdown",
   "metadata": {},
   "source": [
    "This data clearly shows us that the majority of animals do not fall under a conservation status. Birds have the most amount of species of concern yet also have by far the most amount of safe species. This data makes mammals look more concerning as the amount of safe animals is not as high compared to the others in danger when comparing categories of animals. "
   ]
  },
  {
   "cell_type": "code",
   "execution_count": 13,
   "metadata": {},
   "outputs": [
    {
     "data": {
      "text/plain": [
       "conservation_status\n",
       "Endangered             15\n",
       "In Recovery             4\n",
       "Safe                  881\n",
       "Species of Concern    113\n",
       "Threatened              8\n",
       "Name: conservation_status, dtype: int64"
      ]
     },
     "execution_count": 13,
     "metadata": {},
     "output_type": "execute_result"
    }
   ],
   "source": [
    "spec_info_safe_animals.groupby('conservation_status').conservation_status.count()"
   ]
  },
  {
   "cell_type": "markdown",
   "metadata": {},
   "source": [
    "The numerical values for each category have been produced above for further statistical analysis. 881 animals are not part of a conservation_status comapred to 140 that are. That means that only 13% of animals have a conservation status."
   ]
  },
  {
   "cell_type": "markdown",
   "metadata": {},
   "source": [
    "# Question 2\n",
    "Are certain types of species more likely to be endangered?"
   ]
  },
  {
   "cell_type": "markdown",
   "metadata": {},
   "source": [
    "To answer this question, firstly the dataframe spec_info_safe, which has all the missing values filled in as safe, is given a new column called 'is_protected' which displays true for any species that had a value other than safe."
   ]
  },
  {
   "cell_type": "code",
   "execution_count": 16,
   "metadata": {},
   "outputs": [
    {
     "data": {
      "text/html": [
       "<div>\n",
       "<style scoped>\n",
       "    .dataframe tbody tr th:only-of-type {\n",
       "        vertical-align: middle;\n",
       "    }\n",
       "\n",
       "    .dataframe tbody tr th {\n",
       "        vertical-align: top;\n",
       "    }\n",
       "\n",
       "    .dataframe thead th {\n",
       "        text-align: right;\n",
       "    }\n",
       "</style>\n",
       "<table border=\"1\" class=\"dataframe\">\n",
       "  <thead>\n",
       "    <tr style=\"text-align: right;\">\n",
       "      <th></th>\n",
       "      <th>category</th>\n",
       "      <th>scientific_name</th>\n",
       "      <th>common_names</th>\n",
       "      <th>conservation_status</th>\n",
       "      <th>is_protected</th>\n",
       "    </tr>\n",
       "  </thead>\n",
       "  <tbody>\n",
       "    <tr>\n",
       "      <th>0</th>\n",
       "      <td>Mammal</td>\n",
       "      <td>Clethrionomys gapperi gapperi</td>\n",
       "      <td>Gapper's Red-Backed Vole</td>\n",
       "      <td>Safe</td>\n",
       "      <td>False</td>\n",
       "    </tr>\n",
       "    <tr>\n",
       "      <th>1</th>\n",
       "      <td>Mammal</td>\n",
       "      <td>Bos bison</td>\n",
       "      <td>American Bison, Bison</td>\n",
       "      <td>Safe</td>\n",
       "      <td>False</td>\n",
       "    </tr>\n",
       "    <tr>\n",
       "      <th>2</th>\n",
       "      <td>Mammal</td>\n",
       "      <td>Bos taurus</td>\n",
       "      <td>Aurochs, Aurochs, Domestic Cattle (Feral), Dom...</td>\n",
       "      <td>Safe</td>\n",
       "      <td>False</td>\n",
       "    </tr>\n",
       "    <tr>\n",
       "      <th>3</th>\n",
       "      <td>Mammal</td>\n",
       "      <td>Ovis aries</td>\n",
       "      <td>Domestic Sheep, Mouflon, Red Sheep, Sheep (Feral)</td>\n",
       "      <td>Safe</td>\n",
       "      <td>False</td>\n",
       "    </tr>\n",
       "    <tr>\n",
       "      <th>4</th>\n",
       "      <td>Mammal</td>\n",
       "      <td>Cervus elaphus</td>\n",
       "      <td>Wapiti Or Elk</td>\n",
       "      <td>Safe</td>\n",
       "      <td>False</td>\n",
       "    </tr>\n",
       "    <tr>\n",
       "      <th>...</th>\n",
       "      <td>...</td>\n",
       "      <td>...</td>\n",
       "      <td>...</td>\n",
       "      <td>...</td>\n",
       "      <td>...</td>\n",
       "    </tr>\n",
       "    <tr>\n",
       "      <th>5819</th>\n",
       "      <td>Vascular Plant</td>\n",
       "      <td>Solanum parishii</td>\n",
       "      <td>Parish's Nightshade</td>\n",
       "      <td>Safe</td>\n",
       "      <td>False</td>\n",
       "    </tr>\n",
       "    <tr>\n",
       "      <th>5820</th>\n",
       "      <td>Vascular Plant</td>\n",
       "      <td>Solanum xanti</td>\n",
       "      <td>Chaparral Nightshade, Purple Nightshade</td>\n",
       "      <td>Safe</td>\n",
       "      <td>False</td>\n",
       "    </tr>\n",
       "    <tr>\n",
       "      <th>5821</th>\n",
       "      <td>Vascular Plant</td>\n",
       "      <td>Parthenocissus vitacea</td>\n",
       "      <td>Thicket Creeper, Virginia Creeper, Woodbine</td>\n",
       "      <td>Safe</td>\n",
       "      <td>False</td>\n",
       "    </tr>\n",
       "    <tr>\n",
       "      <th>5822</th>\n",
       "      <td>Vascular Plant</td>\n",
       "      <td>Vitis californica</td>\n",
       "      <td>California Grape, California Wild Grape</td>\n",
       "      <td>Safe</td>\n",
       "      <td>False</td>\n",
       "    </tr>\n",
       "    <tr>\n",
       "      <th>5823</th>\n",
       "      <td>Vascular Plant</td>\n",
       "      <td>Tribulus terrestris</td>\n",
       "      <td>Bullhead, Caltrop, Goathead, Mexican Sandbur, ...</td>\n",
       "      <td>Safe</td>\n",
       "      <td>False</td>\n",
       "    </tr>\n",
       "  </tbody>\n",
       "</table>\n",
       "<p>5824 rows × 5 columns</p>\n",
       "</div>"
      ],
      "text/plain": [
       "            category                scientific_name  \\\n",
       "0             Mammal  Clethrionomys gapperi gapperi   \n",
       "1             Mammal                      Bos bison   \n",
       "2             Mammal                     Bos taurus   \n",
       "3             Mammal                     Ovis aries   \n",
       "4             Mammal                 Cervus elaphus   \n",
       "...              ...                            ...   \n",
       "5819  Vascular Plant               Solanum parishii   \n",
       "5820  Vascular Plant                  Solanum xanti   \n",
       "5821  Vascular Plant         Parthenocissus vitacea   \n",
       "5822  Vascular Plant              Vitis californica   \n",
       "5823  Vascular Plant            Tribulus terrestris   \n",
       "\n",
       "                                           common_names conservation_status  \\\n",
       "0                              Gapper's Red-Backed Vole                Safe   \n",
       "1                                 American Bison, Bison                Safe   \n",
       "2     Aurochs, Aurochs, Domestic Cattle (Feral), Dom...                Safe   \n",
       "3     Domestic Sheep, Mouflon, Red Sheep, Sheep (Feral)                Safe   \n",
       "4                                         Wapiti Or Elk                Safe   \n",
       "...                                                 ...                 ...   \n",
       "5819                                Parish's Nightshade                Safe   \n",
       "5820            Chaparral Nightshade, Purple Nightshade                Safe   \n",
       "5821        Thicket Creeper, Virginia Creeper, Woodbine                Safe   \n",
       "5822            California Grape, California Wild Grape                Safe   \n",
       "5823  Bullhead, Caltrop, Goathead, Mexican Sandbur, ...                Safe   \n",
       "\n",
       "      is_protected  \n",
       "0            False  \n",
       "1            False  \n",
       "2            False  \n",
       "3            False  \n",
       "4            False  \n",
       "...            ...  \n",
       "5819         False  \n",
       "5820         False  \n",
       "5821         False  \n",
       "5822         False  \n",
       "5823         False  \n",
       "\n",
       "[5824 rows x 5 columns]"
      ]
     },
     "metadata": {},
     "output_type": "display_data"
    }
   ],
   "source": [
    "spec_info_safe['is_protected'] = spec_info_safe.conservation_status != 'Safe'\n",
    "display(spec_info_safe)"
   ]
  },
  {
   "cell_type": "markdown",
   "metadata": {},
   "source": [
    "After this is done, the dataframe is changed so that it is grouped by category of species and protected status. The scientific_name column is also changed to show the number of unique values. The dataframe is then pivoted so that the rows become the categories, the values are the number of unique values in the scientific_name column and the column names are changed to be 'category, not_protected, and protected respectively. Lastly an extra column is added to show the percentage of species that are protected by animal."
   ]
  },
  {
   "cell_type": "code",
   "execution_count": 18,
   "metadata": {},
   "outputs": [
    {
     "data": {
      "text/html": [
       "<div>\n",
       "<style scoped>\n",
       "    .dataframe tbody tr th:only-of-type {\n",
       "        vertical-align: middle;\n",
       "    }\n",
       "\n",
       "    .dataframe tbody tr th {\n",
       "        vertical-align: top;\n",
       "    }\n",
       "\n",
       "    .dataframe thead th {\n",
       "        text-align: right;\n",
       "    }\n",
       "</style>\n",
       "<table border=\"1\" class=\"dataframe\">\n",
       "  <thead>\n",
       "    <tr style=\"text-align: right;\">\n",
       "      <th></th>\n",
       "      <th>category</th>\n",
       "      <th>not_protected</th>\n",
       "      <th>protected</th>\n",
       "      <th>percent_protected%</th>\n",
       "    </tr>\n",
       "  </thead>\n",
       "  <tbody>\n",
       "    <tr>\n",
       "      <th>0</th>\n",
       "      <td>Amphibian</td>\n",
       "      <td>72</td>\n",
       "      <td>7</td>\n",
       "      <td>8.86</td>\n",
       "    </tr>\n",
       "    <tr>\n",
       "      <th>1</th>\n",
       "      <td>Bird</td>\n",
       "      <td>413</td>\n",
       "      <td>75</td>\n",
       "      <td>15.37</td>\n",
       "    </tr>\n",
       "    <tr>\n",
       "      <th>2</th>\n",
       "      <td>Fish</td>\n",
       "      <td>115</td>\n",
       "      <td>11</td>\n",
       "      <td>8.73</td>\n",
       "    </tr>\n",
       "    <tr>\n",
       "      <th>3</th>\n",
       "      <td>Mammal</td>\n",
       "      <td>146</td>\n",
       "      <td>30</td>\n",
       "      <td>17.05</td>\n",
       "    </tr>\n",
       "    <tr>\n",
       "      <th>4</th>\n",
       "      <td>Nonvascular Plant</td>\n",
       "      <td>328</td>\n",
       "      <td>5</td>\n",
       "      <td>1.50</td>\n",
       "    </tr>\n",
       "    <tr>\n",
       "      <th>5</th>\n",
       "      <td>Reptile</td>\n",
       "      <td>73</td>\n",
       "      <td>5</td>\n",
       "      <td>6.41</td>\n",
       "    </tr>\n",
       "    <tr>\n",
       "      <th>6</th>\n",
       "      <td>Vascular Plant</td>\n",
       "      <td>4216</td>\n",
       "      <td>46</td>\n",
       "      <td>1.08</td>\n",
       "    </tr>\n",
       "  </tbody>\n",
       "</table>\n",
       "</div>"
      ],
      "text/plain": [
       "            category  not_protected  protected  percent_protected%\n",
       "0          Amphibian             72          7                8.86\n",
       "1               Bird            413         75               15.37\n",
       "2               Fish            115         11                8.73\n",
       "3             Mammal            146         30               17.05\n",
       "4  Nonvascular Plant            328          5                1.50\n",
       "5            Reptile             73          5                6.41\n",
       "6     Vascular Plant           4216         46                1.08"
      ]
     },
     "metadata": {},
     "output_type": "display_data"
    }
   ],
   "source": [
    "#reshaping the dataframe\n",
    "category_counts = spec_info_safe.groupby(['category', 'is_protected']).scientific_name.nunique().reset_index()\\\n",
    ".pivot(columns='is_protected', index='category', values='scientific_name').reset_index()\n",
    "\n",
    "category_counts.columns = ['category', 'not_protected', 'protected']\n",
    "\n",
    "category_counts['percent_protected%'] = category_counts.protected / \\\n",
    "                                      (category_counts.protected + category_counts.not_protected) * 100\n",
    "category_counts['percent_protected%'] = round(category_counts['percent_protected%'], 2)\n",
    "display(category_counts)"
   ]
  },
  {
   "cell_type": "markdown",
   "metadata": {},
   "source": [
    "Based on the above table 17.05% of all mammals sighted in the national parks in the last seven days have some sort of protected conservation status. Comparing this to only 1.08% of vascular plants, it shows that certain types of species in the national parks are more likely to be endangered than others."
   ]
  },
  {
   "cell_type": "markdown",
   "metadata": {},
   "source": [
    "# Question 3\n",
    "Are the differences between species and their conservation status significant? (Chi-Square)"
   ]
  },
  {
   "cell_type": "markdown",
   "metadata": {},
   "source": [
    "Species and conservation status are both categorical variables so to compare them Chi-Square tests will need to be run. The test can only compare two categories of species (birds & fish) at once so it will need to be run multiple times to get every comparision. Firstly a contingency table is made like the one below and then populated with the correct data.\n",
    "\n",
    "||protected|not protected|\n",
    "|-|-|-|\n",
    "|Mammal|?|?|\n",
    "|Bird|?|?|\n",
    "\n",
    "The table is then put into the chi2_contingency function. The p-value (second number) is the one we are concerned about as it tells us the statistical signifiance of the test. If the p-value is less than 0.05 (the standard value to test at) then the difference between those two species and their conservation status is significant."
   ]
  },
  {
   "cell_type": "code",
   "execution_count": 19,
   "metadata": {},
   "outputs": [
    {
     "data": {
      "text/plain": [
       "(1.831621580618698,\n",
       " 0.17593613249594683,\n",
       " 1,\n",
       " array([[ 11.42504409,  67.57495591],\n",
       "        [ 70.57495591, 417.42504409]]))"
      ]
     },
     "execution_count": 19,
     "metadata": {},
     "output_type": "execute_result"
    }
   ],
   "source": [
    "from scipy.stats import chi2_contingency\n",
    "# Comparing Amphibians and Birds\n",
    "contingencyAB = [[7, 72,],\n",
    "                [75, 413]]\n",
    "chi2_contingency(contingencyAB)"
   ]
  },
  {
   "cell_type": "code",
   "execution_count": 20,
   "metadata": {},
   "outputs": [
    {
     "data": {
      "text/plain": [
       "(0.0,\n",
       " 1.0,\n",
       " 1,\n",
       " array([[  6.93658537,  72.06341463],\n",
       "        [ 11.06341463, 114.93658537]]))"
      ]
     },
     "execution_count": 20,
     "metadata": {},
     "output_type": "execute_result"
    }
   ],
   "source": [
    "# Comparing Amphibians and Fish\n",
    "contingencyAF = [[7, 72,],\n",
    "                [11, 115]]\n",
    "chi2_contingency(contingencyAF)"
   ]
  },
  {
   "cell_type": "code",
   "execution_count": 21,
   "metadata": {},
   "outputs": [
    {
     "data": {
      "text/plain": [
       "(2.321746712946015,\n",
       " 0.12757669693198975,\n",
       " 1,\n",
       " array([[ 11.4627451,  67.5372549],\n",
       "        [ 25.5372549, 150.4627451]]))"
      ]
     },
     "execution_count": 21,
     "metadata": {},
     "output_type": "execute_result"
    }
   ],
   "source": [
    "# Comparing Amphibians and Mammals\n",
    "contingencyAM = [[7, 72,],\n",
    "                [30, 146]]\n",
    "chi2_contingency(contingencyAM)"
   ]
  },
  {
   "cell_type": "code",
   "execution_count": 22,
   "metadata": {},
   "outputs": [
    {
     "data": {
      "text/plain": [
       "(9.765103711306242,\n",
       " 0.001778554820715609,\n",
       " 1,\n",
       " array([[  2.30097087,  76.69902913],\n",
       "        [  9.69902913, 323.30097087]]))"
      ]
     },
     "execution_count": 22,
     "metadata": {},
     "output_type": "execute_result"
    }
   ],
   "source": [
    "# Comparing Amphibians and Nonvascular Plants\n",
    "contingencyAN = [[7, 72,],\n",
    "                [5, 328]]\n",
    "chi2_contingency(contingencyAN)"
   ]
  },
  {
   "cell_type": "code",
   "execution_count": 23,
   "metadata": {},
   "outputs": [
    {
     "data": {
      "text/plain": [
       "(0.07696702910310493,\n",
       " 0.7814504686518953,\n",
       " 1,\n",
       " array([[ 6.03821656, 72.96178344],\n",
       "        [ 5.96178344, 72.03821656]]))"
      ]
     },
     "execution_count": 23,
     "metadata": {},
     "output_type": "execute_result"
    }
   ],
   "source": [
    "# Comparing Amphibians and Reptiles\n",
    "contingencyAR = [[7, 72,],\n",
    "                [5, 73]]\n",
    "chi2_contingency(contingencyAR)"
   ]
  },
  {
   "cell_type": "code",
   "execution_count": 24,
   "metadata": {},
   "outputs": [
    {
     "data": {
      "text/plain": [
       "(32.7572979770742,\n",
       " 1.0441355146657018e-08,\n",
       " 1,\n",
       " array([[9.64524303e-01, 7.80354757e+01],\n",
       "        [5.20354757e+01, 4.20996452e+03]]))"
      ]
     },
     "execution_count": 24,
     "metadata": {},
     "output_type": "execute_result"
    }
   ],
   "source": [
    "# Comparing Amphibians and Vascular Plants\n",
    "contingencyAV = [[7, 72],\n",
    "                [46, 4216]]\n",
    "chi2_contingency(contingencyAV)"
   ]
  },
  {
   "cell_type": "code",
   "execution_count": 25,
   "metadata": {},
   "outputs": [
    {
     "data": {
      "text/plain": [
       "(3.1338596463736463,\n",
       " 0.07668199569057187,\n",
       " 1,\n",
       " array([[ 68.35179153, 419.64820847],\n",
       "        [ 17.64820847, 108.35179153]]))"
      ]
     },
     "execution_count": 25,
     "metadata": {},
     "output_type": "execute_result"
    }
   ],
   "source": [
    "# Comparing Birds and Fish\n",
    "contingencyBF = [[75, 413],\n",
    "                [11, 115]]\n",
    "chi2_contingency(contingencyBF)"
   ]
  },
  {
   "cell_type": "code",
   "execution_count": 26,
   "metadata": {},
   "outputs": [
    {
     "data": {
      "text/plain": [
       "(0.16170148316545574,\n",
       " 0.6875948096661336,\n",
       " 1,\n",
       " array([[ 77.1686747, 410.8313253],\n",
       "        [ 27.8313253, 148.1686747]]))"
      ]
     },
     "execution_count": 26,
     "metadata": {},
     "output_type": "execute_result"
    }
   ],
   "source": [
    "# Comparing Birds and Mammals\n",
    "contingencyBM = [[75, 413],\n",
    "                [30, 146]]\n",
    "chi2_contingency(contingencyBM)"
   ]
  },
  {
   "cell_type": "code",
   "execution_count": 27,
   "metadata": {},
   "outputs": [
    {
     "data": {
      "text/plain": [
       "(41.717457869992714,\n",
       " 1.0546306904975004e-10,\n",
       " 1,\n",
       " array([[ 47.55176614, 440.44823386],\n",
       "        [ 32.44823386, 300.55176614]]))"
      ]
     },
     "execution_count": 27,
     "metadata": {},
     "output_type": "execute_result"
    }
   ],
   "source": [
    "# Comparing Birds and Nonvascular Plants\n",
    "contingencyBN = [[75, 413],\n",
    "                [5, 328]]\n",
    "chi2_contingency(contingencyBN)"
   ]
  },
  {
   "cell_type": "code",
   "execution_count": 28,
   "metadata": {},
   "outputs": [
    {
     "data": {
      "text/plain": [
       "(3.7396547786854963,\n",
       " 0.05313542232154235,\n",
       " 1,\n",
       " array([[ 68.97526502, 419.02473498],\n",
       "        [ 11.02473498,  66.97526502]]))"
      ]
     },
     "execution_count": 28,
     "metadata": {},
     "output_type": "execute_result"
    }
   ],
   "source": [
    "# Comparing Birds and Reptiles\n",
    "contingencyBR = [[75, 413],\n",
    "                [5, 73]]\n",
    "chi2_contingency(contingencyBR)"
   ]
  },
  {
   "cell_type": "code",
   "execution_count": 29,
   "metadata": {},
   "outputs": [
    {
     "data": {
      "text/plain": [
       "(354.42332680820607,\n",
       " 4.612268031690143e-79,\n",
       " 1,\n",
       " array([[  12.43115789,  475.56884211],\n",
       "        [ 108.56884211, 4153.43115789]]))"
      ]
     },
     "execution_count": 29,
     "metadata": {},
     "output_type": "execute_result"
    }
   ],
   "source": [
    "# Comparing Birds and Vascular Plants\n",
    "contingencyBV = [[75, 413],\n",
    "                [46, 4216]]\n",
    "chi2_contingency(contingencyBV)"
   ]
  },
  {
   "cell_type": "code",
   "execution_count": 30,
   "metadata": {},
   "outputs": [
    {
     "data": {
      "text/plain": [
       "(3.6476510249814145,\n",
       " 0.056148348448900355,\n",
       " 1,\n",
       " array([[ 17.10596026, 108.89403974],\n",
       "        [ 23.89403974, 152.10596026]]))"
      ]
     },
     "execution_count": 30,
     "metadata": {},
     "output_type": "execute_result"
    }
   ],
   "source": [
    "# Comparing Fish and Mammals\n",
    "contingencyFM = [[11, 115],\n",
    "                [30, 146]]\n",
    "chi2_contingency(contingencyFM)"
   ]
  },
  {
   "cell_type": "code",
   "execution_count": 31,
   "metadata": {},
   "outputs": [
    {
     "data": {
      "text/plain": [
       "(12.13040550073211,\n",
       " 0.0004960633228752838,\n",
       " 1,\n",
       " array([[  4.39215686, 121.60784314],\n",
       "        [ 11.60784314, 321.39215686]]))"
      ]
     },
     "execution_count": 31,
     "metadata": {},
     "output_type": "execute_result"
    }
   ],
   "source": [
    "# Comparing Fish and Nonvascular Plants\n",
    "contingencyFN = [[11, 115],\n",
    "                [5, 328]]\n",
    "chi2_contingency(contingencyFN)"
   ]
  },
  {
   "cell_type": "code",
   "execution_count": 32,
   "metadata": {},
   "outputs": [
    {
     "data": {
      "text/plain": [
       "(0.10955400981996731,\n",
       " 0.7406524615907095,\n",
       " 1,\n",
       " array([[  9.88235294, 116.11764706],\n",
       "        [  6.11764706,  71.88235294]]))"
      ]
     },
     "execution_count": 32,
     "metadata": {},
     "output_type": "execute_result"
    }
   ],
   "source": [
    "# Comparing Fish and Reptiles\n",
    "contingencyFR = [[11, 115],\n",
    "                [5, 73]]\n",
    "chi2_contingency(contingencyFR)"
   ]
  },
  {
   "cell_type": "code",
   "execution_count": 33,
   "metadata": {},
   "outputs": [
    {
     "data": {
      "text/plain": [
       "(50.065682762850486,\n",
       " 1.486846949188912e-12,\n",
       " 1,\n",
       " array([[1.63673655e+00, 1.24363263e+02],\n",
       "        [5.53632634e+01, 4.20663674e+03]]))"
      ]
     },
     "execution_count": 33,
     "metadata": {},
     "output_type": "execute_result"
    }
   ],
   "source": [
    "# Comparing Fish and Vascular Plants\n",
    "contingencyFV = [[11, 115],\n",
    "                [46, 4216]]\n",
    "chi2_contingency(contingencyFV)"
   ]
  },
  {
   "cell_type": "code",
   "execution_count": 34,
   "metadata": {},
   "outputs": [
    {
     "data": {
      "text/plain": [
       "(41.0526001992972,\n",
       " 1.481868915759314e-10,\n",
       " 1,\n",
       " array([[ 12.1021611, 163.8978389],\n",
       "        [ 22.8978389, 310.1021611]]))"
      ]
     },
     "execution_count": 34,
     "metadata": {},
     "output_type": "execute_result"
    }
   ],
   "source": [
    "# Comparing Mammals and Nonvascular Plants\n",
    "contingencyMN = [[30, 146],\n",
    "                [5, 328]]\n",
    "chi2_contingency(contingencyMN)"
   ]
  },
  {
   "cell_type": "code",
   "execution_count": 35,
   "metadata": {},
   "outputs": [
    {
     "data": {
      "text/plain": [
       "(4.289183096203645,\n",
       " 0.03835559022969898,\n",
       " 1,\n",
       " array([[ 24.2519685, 151.7480315],\n",
       "        [ 10.7480315,  67.2519685]]))"
      ]
     },
     "execution_count": 35,
     "metadata": {},
     "output_type": "execute_result"
    }
   ],
   "source": [
    "# Comparing Mammals and Reptiles\n",
    "contingencyMR = [[30, 146],\n",
    "                [5, 73]]\n",
    "chi2_contingency(contingencyMR)"
   ]
  },
  {
   "cell_type": "code",
   "execution_count": 36,
   "metadata": {},
   "outputs": [
    {
     "data": {
      "text/plain": [
       "(246.5870424874456,\n",
       " 1.4405067309854046e-55,\n",
       " 1,\n",
       " array([[3.01397026e+00, 1.72986030e+02],\n",
       "        [7.29860297e+01, 4.18901397e+03]]))"
      ]
     },
     "execution_count": 36,
     "metadata": {},
     "output_type": "execute_result"
    }
   ],
   "source": [
    "# Comparing Mammals and Vascular Plants\n",
    "contingencyMV = [[30, 146],\n",
    "                [46, 4216]]\n",
    "chi2_contingency(contingencyMV)"
   ]
  },
  {
   "cell_type": "code",
   "execution_count": 37,
   "metadata": {},
   "outputs": [
    {
     "data": {
      "text/plain": [
       "(4.513570089848144,\n",
       " 0.03362698310726171,\n",
       " 1,\n",
       " array([[  8.10218978, 324.89781022],\n",
       "        [  1.89781022,  76.10218978]]))"
      ]
     },
     "execution_count": 37,
     "metadata": {},
     "output_type": "execute_result"
    }
   ],
   "source": [
    "# Comparing Nonvascular Plants and Reptiles\n",
    "contingencyNR = [[5, 328],\n",
    "                [5, 73]]\n",
    "chi2_contingency(contingencyNR)"
   ]
  },
  {
   "cell_type": "code",
   "execution_count": 38,
   "metadata": {},
   "outputs": [
    {
     "data": {
      "text/plain": [
       "(0.19069121233812064,\n",
       " 0.6623419491381985,\n",
       " 1,\n",
       " array([[3.69597388e+00, 3.29304026e+02],\n",
       "        [4.73040261e+01, 4.21469597e+03]]))"
      ]
     },
     "execution_count": 38,
     "metadata": {},
     "output_type": "execute_result"
    }
   ],
   "source": [
    "# Comparing Nonvascular Plants and Vascular Plants\n",
    "contingencyNV = [[5, 328],\n",
    "                [46, 4216]]\n",
    "chi2_contingency(contingencyNV)"
   ]
  },
  {
   "cell_type": "code",
   "execution_count": 39,
   "metadata": {
    "scrolled": true
   },
   "outputs": [
    {
     "data": {
      "text/plain": [
       "(14.435371140033908,\n",
       " 0.00014505215494675828,\n",
       " 1,\n",
       " array([[9.16589862e-01, 7.70834101e+01],\n",
       "        [5.00834101e+01, 4.21191659e+03]]))"
      ]
     },
     "execution_count": 39,
     "metadata": {},
     "output_type": "execute_result"
    }
   ],
   "source": [
    "# Comparing Reptiles and Vascular Plants\n",
    "contingencyRV = [[5, 73],\n",
    "                [46, 4216]]\n",
    "chi2_contingency(contingencyRV)"
   ]
  },
  {
   "cell_type": "markdown",
   "metadata": {},
   "source": [
    "The comparisions above which are statistically significant (P-value under 0.05) are:\n",
    "1. Reptiles and Vascular plants\n",
    "2. Nonvascular Plants and Reptiles\n",
    "3. Mammals and Reptiles\n",
    "4. Fish and Nonvascular Plants\n",
    "5. Amphibians and Nonvascular Plants\n",
    "\n",
    "This means that there is a significant difference between the above groups of species and their conservation statuses."
   ]
  },
  {
   "cell_type": "markdown",
   "metadata": {},
   "source": [
    "# Question 4\n",
    "Which species were spotted the most at each park?\n",
    "\n",
    "Firstly the names of the different national parks in the data are established."
   ]
  },
  {
   "cell_type": "code",
   "execution_count": 40,
   "metadata": {},
   "outputs": [
    {
     "data": {
      "text/plain": [
       "array(['Great Smoky Mountains National Park', 'Yosemite National Park',\n",
       "       'Bryce National Park', 'Yellowstone National Park'], dtype=object)"
      ]
     },
     "execution_count": 40,
     "metadata": {},
     "output_type": "execute_result"
    }
   ],
   "source": [
    "obs.park_name.unique()"
   ]
  },
  {
   "cell_type": "markdown",
   "metadata": {},
   "source": [
    "Then the row with the most observations for each national park is produced and printed below."
   ]
  },
  {
   "cell_type": "code",
   "execution_count": 41,
   "metadata": {},
   "outputs": [
    {
     "data": {
      "text/html": [
       "<div>\n",
       "<style scoped>\n",
       "    .dataframe tbody tr th:only-of-type {\n",
       "        vertical-align: middle;\n",
       "    }\n",
       "\n",
       "    .dataframe tbody tr th {\n",
       "        vertical-align: top;\n",
       "    }\n",
       "\n",
       "    .dataframe thead th {\n",
       "        text-align: right;\n",
       "    }\n",
       "</style>\n",
       "<table border=\"1\" class=\"dataframe\">\n",
       "  <thead>\n",
       "    <tr style=\"text-align: right;\">\n",
       "      <th></th>\n",
       "      <th>scientific_name</th>\n",
       "      <th>park_name</th>\n",
       "      <th>observations</th>\n",
       "    </tr>\n",
       "  </thead>\n",
       "  <tbody>\n",
       "    <tr>\n",
       "      <th>8840</th>\n",
       "      <td>Sonchus asper ssp. asper</td>\n",
       "      <td>Great Smoky Mountains National Park</td>\n",
       "      <td>147</td>\n",
       "    </tr>\n",
       "  </tbody>\n",
       "</table>\n",
       "</div>"
      ],
      "text/plain": [
       "               scientific_name                            park_name  \\\n",
       "8840  Sonchus asper ssp. asper  Great Smoky Mountains National Park   \n",
       "\n",
       "      observations  \n",
       "8840           147  "
      ]
     },
     "metadata": {},
     "output_type": "display_data"
    },
    {
     "data": {
      "text/html": [
       "<div>\n",
       "<style scoped>\n",
       "    .dataframe tbody tr th:only-of-type {\n",
       "        vertical-align: middle;\n",
       "    }\n",
       "\n",
       "    .dataframe tbody tr th {\n",
       "        vertical-align: top;\n",
       "    }\n",
       "\n",
       "    .dataframe thead th {\n",
       "        text-align: right;\n",
       "    }\n",
       "</style>\n",
       "<table border=\"1\" class=\"dataframe\">\n",
       "  <thead>\n",
       "    <tr style=\"text-align: right;\">\n",
       "      <th></th>\n",
       "      <th>scientific_name</th>\n",
       "      <th>park_name</th>\n",
       "      <th>observations</th>\n",
       "    </tr>\n",
       "  </thead>\n",
       "  <tbody>\n",
       "    <tr>\n",
       "      <th>6682</th>\n",
       "      <td>Ivesia shockleyi var. shockleyi</td>\n",
       "      <td>Yosemite National Park</td>\n",
       "      <td>223</td>\n",
       "    </tr>\n",
       "  </tbody>\n",
       "</table>\n",
       "</div>"
      ],
      "text/plain": [
       "                      scientific_name               park_name  observations\n",
       "6682  Ivesia shockleyi var. shockleyi  Yosemite National Park           223"
      ]
     },
     "metadata": {},
     "output_type": "display_data"
    },
    {
     "data": {
      "text/html": [
       "<div>\n",
       "<style scoped>\n",
       "    .dataframe tbody tr th:only-of-type {\n",
       "        vertical-align: middle;\n",
       "    }\n",
       "\n",
       "    .dataframe tbody tr th {\n",
       "        vertical-align: top;\n",
       "    }\n",
       "\n",
       "    .dataframe thead th {\n",
       "        text-align: right;\n",
       "    }\n",
       "</style>\n",
       "<table border=\"1\" class=\"dataframe\">\n",
       "  <thead>\n",
       "    <tr style=\"text-align: right;\">\n",
       "      <th></th>\n",
       "      <th>scientific_name</th>\n",
       "      <th>park_name</th>\n",
       "      <th>observations</th>\n",
       "    </tr>\n",
       "  </thead>\n",
       "  <tbody>\n",
       "    <tr>\n",
       "      <th>13138</th>\n",
       "      <td>Valerianella radiata</td>\n",
       "      <td>Bryce National Park</td>\n",
       "      <td>176</td>\n",
       "    </tr>\n",
       "  </tbody>\n",
       "</table>\n",
       "</div>"
      ],
      "text/plain": [
       "            scientific_name            park_name  observations\n",
       "13138  Valerianella radiata  Bryce National Park           176"
      ]
     },
     "metadata": {},
     "output_type": "display_data"
    },
    {
     "data": {
      "text/html": [
       "<div>\n",
       "<style scoped>\n",
       "    .dataframe tbody tr th:only-of-type {\n",
       "        vertical-align: middle;\n",
       "    }\n",
       "\n",
       "    .dataframe tbody tr th {\n",
       "        vertical-align: top;\n",
       "    }\n",
       "\n",
       "    .dataframe thead th {\n",
       "        text-align: right;\n",
       "    }\n",
       "</style>\n",
       "<table border=\"1\" class=\"dataframe\">\n",
       "  <thead>\n",
       "    <tr style=\"text-align: right;\">\n",
       "      <th></th>\n",
       "      <th>scientific_name</th>\n",
       "      <th>park_name</th>\n",
       "      <th>observations</th>\n",
       "    </tr>\n",
       "  </thead>\n",
       "  <tbody>\n",
       "    <tr>\n",
       "      <th>11281</th>\n",
       "      <td>Lycopodium tristachyum</td>\n",
       "      <td>Yellowstone National Park</td>\n",
       "      <td>321</td>\n",
       "    </tr>\n",
       "  </tbody>\n",
       "</table>\n",
       "</div>"
      ],
      "text/plain": [
       "              scientific_name                  park_name  observations\n",
       "11281  Lycopodium tristachyum  Yellowstone National Park           321"
      ]
     },
     "metadata": {},
     "output_type": "display_data"
    }
   ],
   "source": [
    "obs_GSMNP = obs[obs.park_name == 'Great Smoky Mountains National Park']\n",
    "g = obs_GSMNP.sort_values(by='observations', ascending=False)\n",
    "display(g.head(1))\n",
    "\n",
    "obs_YoNP = obs[obs.park_name == 'Yosemite National Park']\n",
    "g = obs_YoNP.sort_values(by='observations', ascending=False)\n",
    "display(g.head(1))\n",
    "\n",
    "obs_BNP = obs[obs.park_name == 'Bryce National Park']\n",
    "g = obs_BNP.sort_values(by='observations', ascending=False)\n",
    "display(g.head(1))\n",
    "\n",
    "obs_YeNP = obs[obs.park_name == 'Yellowstone National Park']\n",
    "g = obs_YeNP.sort_values(by='observations', ascending=False)\n",
    "display(g.head(1))"
   ]
  },
  {
   "cell_type": "markdown",
   "metadata": {},
   "source": [
    "The scientific names of each species was then entered into the species_info dataframe to find the common name of the most common species sighted in the last seven days from each national park."
   ]
  },
  {
   "cell_type": "code",
   "execution_count": 42,
   "metadata": {
    "scrolled": false
   },
   "outputs": [
    {
     "data": {
      "text/html": [
       "<div>\n",
       "<style scoped>\n",
       "    .dataframe tbody tr th:only-of-type {\n",
       "        vertical-align: middle;\n",
       "    }\n",
       "\n",
       "    .dataframe tbody tr th {\n",
       "        vertical-align: top;\n",
       "    }\n",
       "\n",
       "    .dataframe thead th {\n",
       "        text-align: right;\n",
       "    }\n",
       "</style>\n",
       "<table border=\"1\" class=\"dataframe\">\n",
       "  <thead>\n",
       "    <tr style=\"text-align: right;\">\n",
       "      <th></th>\n",
       "      <th>category</th>\n",
       "      <th>scientific_name</th>\n",
       "      <th>common_names</th>\n",
       "      <th>conservation_status</th>\n",
       "    </tr>\n",
       "  </thead>\n",
       "  <tbody>\n",
       "    <tr>\n",
       "      <th>4840</th>\n",
       "      <td>Vascular Plant</td>\n",
       "      <td>Sonchus asper ssp. asper</td>\n",
       "      <td>Spiny Sowthistle</td>\n",
       "      <td>NaN</td>\n",
       "    </tr>\n",
       "  </tbody>\n",
       "</table>\n",
       "</div>"
      ],
      "text/plain": [
       "            category           scientific_name      common_names  \\\n",
       "4840  Vascular Plant  Sonchus asper ssp. asper  Spiny Sowthistle   \n",
       "\n",
       "     conservation_status  \n",
       "4840                 NaN  "
      ]
     },
     "metadata": {},
     "output_type": "display_data"
    },
    {
     "data": {
      "text/html": [
       "<div>\n",
       "<style scoped>\n",
       "    .dataframe tbody tr th:only-of-type {\n",
       "        vertical-align: middle;\n",
       "    }\n",
       "\n",
       "    .dataframe tbody tr th {\n",
       "        vertical-align: top;\n",
       "    }\n",
       "\n",
       "    .dataframe thead th {\n",
       "        text-align: right;\n",
       "    }\n",
       "</style>\n",
       "<table border=\"1\" class=\"dataframe\">\n",
       "  <thead>\n",
       "    <tr style=\"text-align: right;\">\n",
       "      <th></th>\n",
       "      <th>category</th>\n",
       "      <th>scientific_name</th>\n",
       "      <th>common_names</th>\n",
       "      <th>conservation_status</th>\n",
       "    </tr>\n",
       "  </thead>\n",
       "  <tbody>\n",
       "    <tr>\n",
       "      <th>5728</th>\n",
       "      <td>Vascular Plant</td>\n",
       "      <td>Ivesia shockleyi var. shockleyi</td>\n",
       "      <td>Shockley's Ivesia, Sky Mousetail</td>\n",
       "      <td>NaN</td>\n",
       "    </tr>\n",
       "  </tbody>\n",
       "</table>\n",
       "</div>"
      ],
      "text/plain": [
       "            category                  scientific_name  \\\n",
       "5728  Vascular Plant  Ivesia shockleyi var. shockleyi   \n",
       "\n",
       "                          common_names conservation_status  \n",
       "5728  Shockley's Ivesia, Sky Mousetail                 NaN  "
      ]
     },
     "metadata": {},
     "output_type": "display_data"
    },
    {
     "data": {
      "text/html": [
       "<div>\n",
       "<style scoped>\n",
       "    .dataframe tbody tr th:only-of-type {\n",
       "        vertical-align: middle;\n",
       "    }\n",
       "\n",
       "    .dataframe tbody tr th {\n",
       "        vertical-align: top;\n",
       "    }\n",
       "\n",
       "    .dataframe thead th {\n",
       "        text-align: right;\n",
       "    }\n",
       "</style>\n",
       "<table border=\"1\" class=\"dataframe\">\n",
       "  <thead>\n",
       "    <tr style=\"text-align: right;\">\n",
       "      <th></th>\n",
       "      <th>category</th>\n",
       "      <th>scientific_name</th>\n",
       "      <th>common_names</th>\n",
       "      <th>conservation_status</th>\n",
       "    </tr>\n",
       "  </thead>\n",
       "  <tbody>\n",
       "    <tr>\n",
       "      <th>1228</th>\n",
       "      <td>Vascular Plant</td>\n",
       "      <td>Valerianella radiata</td>\n",
       "      <td>Beaked Corn-Salad, Corn Salad</td>\n",
       "      <td>NaN</td>\n",
       "    </tr>\n",
       "  </tbody>\n",
       "</table>\n",
       "</div>"
      ],
      "text/plain": [
       "            category       scientific_name                   common_names  \\\n",
       "1228  Vascular Plant  Valerianella radiata  Beaked Corn-Salad, Corn Salad   \n",
       "\n",
       "     conservation_status  \n",
       "1228                 NaN  "
      ]
     },
     "metadata": {},
     "output_type": "display_data"
    },
    {
     "data": {
      "text/html": [
       "<div>\n",
       "<style scoped>\n",
       "    .dataframe tbody tr th:only-of-type {\n",
       "        vertical-align: middle;\n",
       "    }\n",
       "\n",
       "    .dataframe tbody tr th {\n",
       "        vertical-align: top;\n",
       "    }\n",
       "\n",
       "    .dataframe thead th {\n",
       "        text-align: right;\n",
       "    }\n",
       "</style>\n",
       "<table border=\"1\" class=\"dataframe\">\n",
       "  <thead>\n",
       "    <tr style=\"text-align: right;\">\n",
       "      <th></th>\n",
       "      <th>category</th>\n",
       "      <th>scientific_name</th>\n",
       "      <th>common_names</th>\n",
       "      <th>conservation_status</th>\n",
       "    </tr>\n",
       "  </thead>\n",
       "  <tbody>\n",
       "    <tr>\n",
       "      <th>1760</th>\n",
       "      <td>Vascular Plant</td>\n",
       "      <td>Lycopodium tristachyum</td>\n",
       "      <td>Deep-Root Clubmoss, Ground Cedar</td>\n",
       "      <td>NaN</td>\n",
       "    </tr>\n",
       "  </tbody>\n",
       "</table>\n",
       "</div>"
      ],
      "text/plain": [
       "            category         scientific_name  \\\n",
       "1760  Vascular Plant  Lycopodium tristachyum   \n",
       "\n",
       "                          common_names conservation_status  \n",
       "1760  Deep-Root Clubmoss, Ground Cedar                 NaN  "
      ]
     },
     "metadata": {},
     "output_type": "display_data"
    }
   ],
   "source": [
    "display(spec_info[spec_info.scientific_name == 'Sonchus asper ssp. asper'])\n",
    "display(spec_info[spec_info.scientific_name == 'Ivesia shockleyi var. shockleyi'])\n",
    "display(spec_info[spec_info.scientific_name == 'Valerianella radiata'])\n",
    "display(spec_info[spec_info.scientific_name == 'Lycopodium tristachyum'])"
   ]
  },
  {
   "cell_type": "markdown",
   "metadata": {},
   "source": [
    "The species most spotted in the Great Smokey Mountains National Park was the 'Sonchus asper ssp. asper' or more commonly known as a Spiny Sowthistle. It had 147 observations in the last seven days.\n",
    "\n",
    "The species most spotted in Yosemite National Park was the 'Ivesia shockleyi var. shockleyi' or more commonly known as Shockley's Ivesia or Sky Mousetail. It had 223 observations in the last seven days.\n",
    "\n",
    "The species most spotted in the Bryce National Park was the 'Valerianella radiata' or more commonly known as Beaked Corn-Salad or Corn Salad. It had 176 observations in the last seven days.\n",
    "\n",
    "The species most spotted in Yellowstone National Park was the 'Lycopodium tristachyum' or more commonly known as Deep-Root Clubmoss or Ground Cedar. It had 321 observations in the last seven days."
   ]
  },
  {
   "cell_type": "markdown",
   "metadata": {},
   "source": [
    "# Conclusions\n",
    "This project was able to take the data provided and answer the questions posed at the start using statistical techniques and data visualizations.\n",
    "\n",
    "What is the distribution of conservation_status for animals?\n",
    "    The charts show that the vast majority of animals in the national parks are considered safe. Only 13% of animals are under a conservation status. Of the animals that are threatened, birds and mammals are most at risk.\n",
    "\n",
    "Are certain types of species more likely to be endangered?\n",
    "    Yes, the species most likely to be endangered are mammals and birds with 17% and 15% of the ones found in the parks endangered respectively. The species least likely to be endangered are nonvascular and vascular plants with 1.5% and 1% of the ones found in the parks endangered respectively.\n",
    "\n",
    "Are the differences between species and their conservation status significant?\n",
    "    The only species that when compared with each other had a statistically significant difference in their conservation status were:\n",
    "1. Reptiles and Vascular plants\n",
    "2. Nonvascular Plants and Reptiles\n",
    "3. Mammals and Reptiles\n",
    "4. Fish and Nonvascular Plants\n",
    "5. Amphibians and Nonvascular Plants\n",
    "\n",
    "Which species were spotted the most at each park?\n",
    "The most common species spotted at each park were different types of vascular plants. Deep-Root Clubmoss or Ground Cedar was the most sighted across all the national parks with 321 observations in Yellowstone National Park in the last seven days."
   ]
  },
  {
   "cell_type": "markdown",
   "metadata": {},
   "source": [
    "# Further Research\n",
    "The data provided only included observations from the last seven days which limits the ability to analyse changes over time. Only four national parks were included in the data and the size of these parks are not recorded. Both these factors limit diversity. It would be intresting to see more parks and the size of them included in the data."
   ]
  }
 ],
 "metadata": {
  "kernelspec": {
   "display_name": "Python 3 (ipykernel)",
   "language": "python",
   "name": "python3"
  },
  "language_info": {
   "codemirror_mode": {
    "name": "ipython",
    "version": 3
   },
   "file_extension": ".py",
   "mimetype": "text/x-python",
   "name": "python",
   "nbconvert_exporter": "python",
   "pygments_lexer": "ipython3",
   "version": "3.9.12"
  }
 },
 "nbformat": 4,
 "nbformat_minor": 4
}
